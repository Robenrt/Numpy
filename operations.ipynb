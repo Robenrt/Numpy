{
 "cells": [
  {
   "cell_type": "markdown",
   "id": "b750d022",
   "metadata": {},
   "source": [
    "## Operations"
   ]
  },
  {
   "cell_type": "code",
   "execution_count": 1,
   "id": "0104d052",
   "metadata": {},
   "outputs": [],
   "source": [
    "import numpy as np"
   ]
  },
  {
   "cell_type": "code",
   "execution_count": 2,
   "id": "dd04042f",
   "metadata": {},
   "outputs": [
    {
     "name": "stdout",
     "output_type": "stream",
     "text": [
      "Basic Slicing [3 4 5 6 7]\n",
      "With Step [2 4 6 8]\n",
      "Negative indexing 7\n"
     ]
    }
   ],
   "source": [
    "# Indexing for vectors\n",
    "array = np.array([1,2,3,4,5,6,7,8,9,0])\n",
    "print(\"Basic Slicing\", array[2:7])\n",
    "print(\"With Step\", array[1:9:2])\n",
    "print(\"Negative indexing\", array[-4])"
   ]
  },
  {
   "cell_type": "markdown",
   "id": "bf86233d",
   "metadata": {},
   "source": [
    "## Indexing in 2D array starts from 0th position. like 0th row and 0th column"
   ]
  },
  {
   "cell_type": "code",
   "execution_count": 3,
   "id": "a5b61020",
   "metadata": {},
   "outputs": [
    {
     "name": "stdout",
     "output_type": "stream",
     "text": [
      "6\n"
     ]
    }
   ],
   "source": [
    "# For 2D array\n",
    "arr = np.array([[1,2,3],\n",
    "                [4,5,6],\n",
    "                [7,8,9]])\n",
    "\n",
    "#targeting specific element\n",
    "print(arr[1,2]) # first row and second element"
   ]
  },
  {
   "cell_type": "code",
   "execution_count": 4,
   "id": "fb76d2fe",
   "metadata": {},
   "outputs": [
    {
     "name": "stdout",
     "output_type": "stream",
     "text": [
      "[4 5 6]\n",
      "[3 6 9]\n"
     ]
    }
   ],
   "source": [
    "# targeting a row\n",
    "print(arr[1]) # first row\n",
    "\n",
    "# targeting a column\n",
    "print(arr[:,2]) # second column"
   ]
  },
  {
   "cell_type": "markdown",
   "id": "9d03df31",
   "metadata": {},
   "source": [
    "## Sorting"
   ]
  },
  {
   "cell_type": "code",
   "execution_count": 5,
   "id": "df206aa0",
   "metadata": {},
   "outputs": [
    {
     "name": "stdout",
     "output_type": "stream",
     "text": [
      "[3 6 8 2 2 1 9 4 6 3]\n",
      "[3 6 8 2 2 1 9 4 6 3]\n"
     ]
    }
   ],
   "source": [
    "unsorted = np.array([3,6,8,2,2,1,9,4,6,3])\n",
    "print(unsorted)\n",
    "\n",
    "sorted = np.sort(unsorted)\n",
    "print(unsorted)"
   ]
  },
  {
   "cell_type": "code",
   "execution_count": 6,
   "id": "3155ae2d",
   "metadata": {},
   "outputs": [
    {
     "name": "stdout",
     "output_type": "stream",
     "text": [
      "[[6 3]\n",
      " [0 4]\n",
      " [9 5]]\n",
      "Sorted array:\n",
      " [[0 3]\n",
      " [6 4]\n",
      " [9 5]]\n"
     ]
    }
   ],
   "source": [
    "# sorting method for 2D arrays\n",
    "\n",
    "arr_2d = np.array([[6,3], [0,4],[9,5]])\n",
    "print(arr_2d)\n",
    "sorted_arr_2d = np.sort(arr_2d,axis=0)\n",
    "print(f\"Sorted array:\\n {sorted_arr_2d}\")"
   ]
  },
  {
   "cell_type": "code",
   "execution_count": 7,
   "id": "bb7d08d6",
   "metadata": {},
   "outputs": [
    {
     "name": "stdout",
     "output_type": "stream",
     "text": [
      "even numbers: [2 8 4 6]\n"
     ]
    }
   ],
   "source": [
    "# Filtering arrays\n",
    "numbers = np.array([1,2,8,4,3,6,5,9,])\n",
    "even = numbers[numbers%2==0] # mask\n",
    "print(f\"even numbers: {even}\")\n"
   ]
  },
  {
   "cell_type": "code",
   "execution_count": 8,
   "id": "30665419",
   "metadata": {},
   "outputs": [
    {
     "name": "stdout",
     "output_type": "stream",
     "text": [
      "Numbers greater than 5: [8 6 9]\n"
     ]
    }
   ],
   "source": [
    "# Filter with mask\n",
    "mask = numbers > 5\n",
    "print(f\"Numbers greater than 5: {numbers[mask]}\")"
   ]
  },
  {
   "cell_type": "markdown",
   "id": "556c4ad4",
   "metadata": {},
   "source": [
    "## Fancy Indexing vs np.where()"
   ]
  },
  {
   "cell_type": "code",
   "execution_count": 9,
   "id": "a8a5f531",
   "metadata": {},
   "outputs": [
    {
     "name": "stdout",
     "output_type": "stream",
     "text": [
      "[2 8 4 3]\n"
     ]
    }
   ],
   "source": [
    "indices = [1,2,3,4]\n",
    "print(numbers[indices])"
   ]
  },
  {
   "cell_type": "code",
   "execution_count": 10,
   "id": "37a739c4",
   "metadata": {},
   "outputs": [
    {
     "name": "stdout",
     "output_type": "stream",
     "text": [
      "[8 6 9]\n"
     ]
    }
   ],
   "source": [
    "where_result = np.where(numbers>5)\n",
    "print(numbers[where_result])"
   ]
  },
  {
   "cell_type": "code",
   "execution_count": 13,
   "id": "6474e978",
   "metadata": {},
   "outputs": [
    {
     "name": "stdout",
     "output_type": "stream",
     "text": [
      "[1 2 8 4 3 6 5 9]\n"
     ]
    }
   ],
   "source": [
    "condition_array = np.where(numbers>5, numbers*1, numbers)\n",
    "print(condition_array)"
   ]
  },
  {
   "cell_type": "code",
   "execution_count": null,
   "id": "074645f1",
   "metadata": {},
   "outputs": [],
   "source": []
  }
 ],
 "metadata": {
  "kernelspec": {
   "display_name": "Python 3",
   "language": "python",
   "name": "python3"
  },
  "language_info": {
   "codemirror_mode": {
    "name": "ipython",
    "version": 3
   },
   "file_extension": ".py",
   "mimetype": "text/x-python",
   "name": "python",
   "nbconvert_exporter": "python",
   "pygments_lexer": "ipython3",
   "version": "3.13.2"
  }
 },
 "nbformat": 4,
 "nbformat_minor": 5
}
