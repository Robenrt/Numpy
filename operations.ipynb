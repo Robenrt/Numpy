{
 "cells": [
  {
   "cell_type": "markdown",
   "id": "b750d022",
   "metadata": {},
   "source": [
    "## Operations"
   ]
  },
  {
   "cell_type": "code",
   "execution_count": 1,
   "id": "0104d052",
   "metadata": {},
   "outputs": [],
   "source": [
    "import numpy as np"
   ]
  },
  {
   "cell_type": "code",
   "execution_count": null,
   "id": "dd04042f",
   "metadata": {},
   "outputs": [
    {
     "name": "stdout",
     "output_type": "stream",
     "text": [
      "Basic Slicing [3 4 5 6 7]\n",
      "With Step [2 4 6 8]\n",
      "Negative indexing 7\n"
     ]
    }
   ],
   "source": [
    "# Indexing for vectors\n",
    "array = np.array([1,2,3,4,5,6,7,8,9,0])\n",
    "print(\"Basic Slicing\", array[2:7])\n",
    "print(\"With Step\", array[1:9:2])\n",
    "print(\"Negative indexing\", array[-4])"
   ]
  },
  {
   "cell_type": "markdown",
   "id": "bf86233d",
   "metadata": {},
   "source": [
    "## Indexing in 2D array starts from 0th position. like 0th row and 0th column"
   ]
  },
  {
   "cell_type": "code",
   "execution_count": null,
   "id": "a5b61020",
   "metadata": {},
   "outputs": [
    {
     "name": "stdout",
     "output_type": "stream",
     "text": [
      "6\n"
     ]
    }
   ],
   "source": [
    "# For 2D array\n",
    "arr = np.array([[1,2,3],\n",
    "                [4,5,6],\n",
    "                [7,8,9]])\n",
    "\n",
    "#targeting specific element\n",
    "print(arr[1,2]) # first row and second element"
   ]
  },
  {
   "cell_type": "code",
   "execution_count": 11,
   "id": "fb76d2fe",
   "metadata": {},
   "outputs": [
    {
     "name": "stdout",
     "output_type": "stream",
     "text": [
      "[4 5 6]\n",
      "[3 6 9]\n"
     ]
    }
   ],
   "source": [
    "# targeting a row\n",
    "print(arr[1]) # first row\n",
    "\n",
    "# targeting a column\n",
    "print(arr[:,2]) # second column"
   ]
  },
  {
   "cell_type": "markdown",
   "id": "9d03df31",
   "metadata": {},
   "source": [
    "## Sorting"
   ]
  },
  {
   "cell_type": "code",
   "execution_count": 12,
   "id": "df206aa0",
   "metadata": {},
   "outputs": [
    {
     "name": "stdout",
     "output_type": "stream",
     "text": [
      "[3 6 8 2 2 1 9 4 6 3]\n",
      "[3 6 8 2 2 1 9 4 6 3]\n"
     ]
    }
   ],
   "source": [
    "unsorted = np.array([3,6,8,2,2,1,9,4,6,3])\n",
    "print(unsorted)\n",
    "\n",
    "sorted = np.sort(unsorted)\n",
    "print(unsorted)"
   ]
  },
  {
   "cell_type": "code",
   "execution_count": null,
   "id": "3155ae2d",
   "metadata": {},
   "outputs": [],
   "source": []
  }
 ],
 "metadata": {
  "kernelspec": {
   "display_name": "Python 3",
   "language": "python",
   "name": "python3"
  },
  "language_info": {
   "codemirror_mode": {
    "name": "ipython",
    "version": 3
   },
   "file_extension": ".py",
   "mimetype": "text/x-python",
   "name": "python",
   "nbconvert_exporter": "python",
   "pygments_lexer": "ipython3",
   "version": "3.13.2"
  }
 },
 "nbformat": 4,
 "nbformat_minor": 5
}
