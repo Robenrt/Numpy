{
 "cells": [
  {
   "cell_type": "markdown",
   "id": "0166b4f4",
   "metadata": {},
   "source": [
    "## Adding and Removing data"
   ]
  },
  {
   "cell_type": "code",
   "execution_count": null,
   "id": "5566a513",
   "metadata": {},
   "outputs": [
    {
     "name": "stdout",
     "output_type": "stream",
     "text": [
      "[ 5  9 13 17]\n",
      "[2 4 6 8 3 5 7 9]\n"
     ]
    }
   ],
   "source": [
    "# Merge two arrays\n",
    "import numpy as np\n",
    "\n",
    "arr1 = np.array([2,4,6,8])\n",
    "arr2 = np.array([3,5,7,9])\n",
    "\n",
    "addition = arr1 + arr2\n",
    "print(addition)\n",
    "\n",
    "join = np.concatenate((arr1, arr2))\n",
    "print(join)"
   ]
  },
  {
   "cell_type": "markdown",
   "id": "0957b2b1",
   "metadata": {},
   "source": [
    "## Array compatibility"
   ]
  },
  {
   "cell_type": "code",
   "execution_count": null,
   "id": "8c2e7883",
   "metadata": {},
   "outputs": [],
   "source": [
    "a = np.array([1,2,3])\n",
    "b = np.array([4,5,6,7])\n",
    "c = np.array([7,8,9])\n",
    "\n",
    " \n"
   ]
  }
 ],
 "metadata": {
  "kernelspec": {
   "display_name": "Python 3",
   "language": "python",
   "name": "python3"
  },
  "language_info": {
   "codemirror_mode": {
    "name": "ipython",
    "version": 3
   },
   "file_extension": ".py",
   "mimetype": "text/x-python",
   "name": "python",
   "nbconvert_exporter": "python",
   "pygments_lexer": "ipython3",
   "version": "3.13.2"
  }
 },
 "nbformat": 4,
 "nbformat_minor": 5
}
