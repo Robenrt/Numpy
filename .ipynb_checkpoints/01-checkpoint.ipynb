{
 "cells": [
  {
   "cell_type": "code",
   "execution_count": 1,
   "id": "59d25092-c17d-4f4b-b6e4-2bc63c0300e0",
   "metadata": {},
   "outputs": [],
   "source": [
    "import numpy as np"
   ]
  },
  {
   "cell_type": "code",
   "execution_count": 2,
   "id": "206fdfde-083b-4c38-b9b2-872180684099",
   "metadata": {},
   "outputs": [
    {
     "name": "stdout",
     "output_type": "stream",
     "text": [
      "[[0. 0. 0.]\n",
      " [0. 0. 0.]\n",
      " [0. 0. 0.]]\n"
     ]
    }
   ],
   "source": [
    "zeros = np.zeros((3,3))\n",
    "print(zeros)"
   ]
  },
  {
   "cell_type": "code",
   "execution_count": 3,
   "id": "59fc33f9-0856-46fe-9367-774b329f3973",
   "metadata": {},
   "outputs": [
    {
     "name": "stdout",
     "output_type": "stream",
     "text": [
      "[[1. 1. 1.]\n",
      " [1. 1. 1.]\n",
      " [1. 1. 1.]]\n"
     ]
    }
   ],
   "source": [
    "ones = np.ones((3,3))\n",
    "print(ones)"
   ]
  },
  {
   "cell_type": "code",
   "execution_count": 4,
   "id": "7a14b5a9-5371-43eb-84c0-43d7fd8ab6cc",
   "metadata": {},
   "outputs": [
    {
     "name": "stdout",
     "output_type": "stream",
     "text": [
      "[[5 5 5]\n",
      " [5 5 5]\n",
      " [5 5 5]]\n"
     ]
    }
   ],
   "source": [
    "constant = np.full((3,3),5)\n",
    "print(constant)"
   ]
  },
  {
   "cell_type": "code",
   "execution_count": 5,
   "id": "892f7162-c929-4ff8-8600-6619708276ec",
   "metadata": {},
   "outputs": [
    {
     "name": "stdout",
     "output_type": "stream",
     "text": [
      "[[0.57053107 0.1807264  0.96381756]\n",
      " [0.39909493 0.81026228 0.82369612]\n",
      " [0.54341467 0.05077856 0.39547035]]\n"
     ]
    }
   ],
   "source": [
    "random = np.random.random((3,3))\n",
    "print(random)"
   ]
  },
  {
   "cell_type": "code",
   "execution_count": 6,
   "id": "8ab09481-8bb2-4d72-938a-72a0d5d5841c",
   "metadata": {},
   "outputs": [
    {
     "name": "stdout",
     "output_type": "stream",
     "text": [
      "[1 4 7]\n"
     ]
    }
   ],
   "source": [
    "sequence = np.arange(1, 10, 3)\n",
    "print(sequence)"
   ]
  },
  {
   "cell_type": "code",
   "execution_count": 7,
   "id": "78465a30-d7fb-453f-8107-516eb868b297",
   "metadata": {},
   "outputs": [],
   "source": [
    "# Vector and Metrics and Tensor"
   ]
  },
  {
   "cell_type": "code",
   "execution_count": 8,
   "id": "0b1f2c96-d6e7-4891-8cf9-9b72527e40b8",
   "metadata": {},
   "outputs": [
    {
     "name": "stdout",
     "output_type": "stream",
     "text": [
      "[1 2 4]\n"
     ]
    }
   ],
   "source": [
    "vector = np.array([1,2,4])\n",
    "print(vector)"
   ]
  },
  {
   "cell_type": "code",
   "execution_count": 9,
   "id": "0a15e416-e1a8-472a-ab08-d3ed907e41c4",
   "metadata": {},
   "outputs": [
    {
     "name": "stdout",
     "output_type": "stream",
     "text": [
      "[[ 2  4  6]\n",
      " [ 8 10 12]]\n"
     ]
    }
   ],
   "source": [
    "matrix = np.array([[2,4,6],\n",
    "                   [8,10,12]])\n",
    "print(matrix)"
   ]
  },
  {
   "cell_type": "code",
   "execution_count": 10,
   "id": "c4067e34-e495-419d-85f7-ddaef1052b8e",
   "metadata": {},
   "outputs": [
    {
     "name": "stdout",
     "output_type": "stream",
     "text": [
      "[[[1 2]\n",
      "  [2 3]\n",
      "  [3 4]\n",
      "  [4 5]]]\n"
     ]
    }
   ],
   "source": [
    "tensor = np.array([[[1,2],[2,3],[3,4],[4,5]]])\n",
    "print(tensor)"
   ]
  },
  {
   "cell_type": "code",
   "execution_count": 11,
   "id": "0023c102-8e7e-43ae-a2b3-319fb0d7b3ba",
   "metadata": {},
   "outputs": [],
   "source": [
    "# Proporties of Array's"
   ]
  },
  {
   "cell_type": "code",
   "execution_count": 15,
   "id": "dbbcf69f-f5fa-4afd-9a75-d9861fded621",
   "metadata": {},
   "outputs": [
    {
     "name": "stdout",
     "output_type": "stream",
     "text": [
      "(3, 3)\n",
      "2\n",
      "9\n",
      "int64\n"
     ]
    }
   ],
   "source": [
    "arr = np.array([[1,2,3], \n",
    "                [4,5,6], \n",
    "                [7,8,9]])\n",
    "print(arr.shape)\n",
    "print(arr.ndim)\n",
    "print(arr.size)\n",
    "print(arr.dtype)"
   ]
  },
  {
   "cell_type": "code",
   "execution_count": 16,
   "id": "c9319734-3204-400f-b2c5-7f41ab1b227e",
   "metadata": {},
   "outputs": [],
   "source": [
    "# Array Re-shape"
   ]
  },
  {
   "cell_type": "code",
   "execution_count": 17,
   "id": "ba2114e1-4949-46e4-a79e-b3a889162602",
   "metadata": {},
   "outputs": [
    {
     "name": "stdout",
     "output_type": "stream",
     "text": [
      "[ 0  1  2  3  4  5  6  7  8  9 10 11]\n"
     ]
    }
   ],
   "source": [
    "arr = np.arange(12)\n",
    "print(arr)"
   ]
  },
  {
   "cell_type": "code",
   "execution_count": null,
   "id": "2d432ca2-3558-4a16-bcef-499e13f7be60",
   "metadata": {},
   "outputs": [],
   "source": []
  }
 ],
 "metadata": {
  "kernelspec": {
   "display_name": "Python 3 (ipykernel)",
   "language": "python",
   "name": "python3"
  },
  "language_info": {
   "codemirror_mode": {
    "name": "ipython",
    "version": 3
   },
   "file_extension": ".py",
   "mimetype": "text/x-python",
   "name": "python",
   "nbconvert_exporter": "python",
   "pygments_lexer": "ipython3",
   "version": "3.13.2"
  }
 },
 "nbformat": 4,
 "nbformat_minor": 5
}
